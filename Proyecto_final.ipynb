{
  "nbformat": 4,
  "nbformat_minor": 0,
  "metadata": {
    "colab": {
      "name": "Proyecto final.ipynb",
      "provenance": []
    },
    "kernelspec": {
      "name": "python3",
      "display_name": "Python 3"
    },
    "language_info": {
      "name": "python"
    }
  },
  "cells": [
    {
      "cell_type": "markdown",
      "source": [
        "A continuación se importaran las siguientes librerias para el proyecto final:"
      ],
      "metadata": {
        "id": "Ht1xQ3QAKw66"
      }
    },
    {
      "cell_type": "code",
      "execution_count": 1,
      "metadata": {
        "id": "133M3zfgKhyv"
      },
      "outputs": [],
      "source": [
        "import pandas as pd\n",
        "import numpy as np"
      ]
    },
    {
      "cell_type": "code",
      "source": [
        "#¡Hola, Proyecto Final del Curso!"
      ],
      "metadata": {
        "id": "BeeuDt-eK5RF"
      },
      "execution_count": 2,
      "outputs": []
    }
  ]
}